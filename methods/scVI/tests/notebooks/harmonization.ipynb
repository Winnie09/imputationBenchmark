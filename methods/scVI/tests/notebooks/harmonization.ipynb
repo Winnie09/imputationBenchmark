{
 "cells": [
  {
   "cell_type": "code",
   "execution_count": null,
   "metadata": {
    "pycharm": {}
   },
   "outputs": [],
   "source": [
    "cd ../../\n",
    "%matplotlib inline"
   ]
  },
  {
   "cell_type": "code",
   "execution_count": null,
   "metadata": {
    "pycharm": {
     "is_executing": false
    }
   },
   "outputs": [],
   "source": [
    "n_epochs_all = None\n",
    "save_path = 'data/'\n",
    "show_plot = True"
   ]
  },
  {
   "cell_type": "markdown",
   "metadata": {
    "pycharm": {}
   },
   "source": [
    "# Setup before running the notebook\n",
    "\n",
    "- Create a virtual environment on terminal (Mac): \n",
    "    - python3 -m virtualenv env\n",
    "- Activate the virtual environment: \n",
    "    - source env/bin/activate\n",
    "- Install the following packages in the environment:\n",
    "    - pip3 install numpy, torch, anndata, seaborn, umap, umap-learn, loompy, tqdm, h5py, ipython, scikit-learn, pandas, jinja2, jupyter"
   ]
  },
  {
   "cell_type": "code",
   "execution_count": null,
   "metadata": {
    "pycharm": {}
   },
   "outputs": [],
   "source": [
    "import matplotlib\n",
    "matplotlib.rcParams[\"pdf.fonttype\"] = 42\n",
    "matplotlib.rcParams[\"ps.fonttype\"] = 42\n",
    "import matplotlib.pyplot as plt\n",
    "from matplotlib.colors import LinearSegmentedColormap\n",
    "import seaborn as sns\n",
    "\n",
    "import numpy as np\n",
    "import numpy.random as random\n",
    "import pandas as pd\n",
    "import scanpy as sc\n",
    "import louvain\n",
    "\n",
    "use_cuda = True\n",
    "from scvi.dataset.dataset import GeneExpressionDataset\n",
    "from scvi.inference import UnsupervisedTrainer\n",
    "from scvi.models import SCANVI, VAE\n",
    "\n",
    "\n",
    "from umap import UMAP"
   ]
  },
  {
   "cell_type": "markdown",
   "metadata": {
    "pycharm": {}
   },
   "source": [
    "The raw data is provided in the Seurat notebook and can be downloaded [here](https://www.dropbox.com/s/79q6dttg8yl20zg/immune_alignment_expression_matrices.zip?dl=1)"
   ]
  },
  {
   "cell_type": "markdown",
   "metadata": {
    "pycharm": {}
   },
   "source": [
    "# Tutorial\n",
    "\n",
    "<font size='3'>This tutorial walks through the harmonization process, specifically making use of scVI and SCANVI, which are two tools that are applicable and useful for principled large-scale analysis of single-cell transcriptomics atlases. Data harmonization refers to the integration of two or more transcriptomics dataset into a single dataset on which any downstream analysis can be applied. The input datasets may come from very different sources and from samples with a different composition of cell types. \n",
    "<br><br>\n",
    "__scVI__ is a deep generative model that has been developed for probabilistic representation of scRNA-seq data and performs well in both harmonization and harmonization-based annotation, going beyond just correcting batch effects. \n",
    "__SCANVI__ is a new method that is designed to harmonize datasets, while also explicitly leveraging any available labels to achieve more accurate annotation. SCANVI uses a semi-supervised generative model. \n",
    "<br><br>\n",
    "The inference of both models (scVI, SCANVI) is done using neural networks, stochastic optimization, and variational inference and scales to millions of cells and multiple datasets. Furthermore, both methods provide a complete probabilistic representation of the data, which non-linearly controls not only for sample-to-sample bias, but also for other technical factors of variation such as over-dispersion, variable library size, and zero-inflation.\n",
    "</font>\n",
    "\n",
    "\n",
    "<font size='3'>The following tutorial is designed to provide an overview of the data harmonization methods, scVI and SCANVI. This tutorial runs through two examples: 1) Tabula Muris dataset and 2) Human dataset (Seurat)\n",
    "<br>\n",
    "Goals:\n",
    "- Setting up and downloading datasets\n",
    "- Performing data harmonization with scVI\n",
    "- Performing marker selection from differentailly expressed genes for each cluster\n",
    "- Performing differential expression within each cluster\n",
    "</font>"
   ]
  },
  {
   "cell_type": "markdown",
   "metadata": {
    "pycharm": {}
   },
   "source": [
    "### Dataset\n",
    "\n",
    "#### The cell below is used to load in two human PBMC dataset, one stimulated and one control. This example uses the dataset downloaded from here: https://www.dropbox.com/s/79q6dttg8yl20zg/immune_alignment_expression_matrices.zip?dl=1 \n",
    "\n",
    "Download this data and unzip it to **HarmonizationNotebook/data**"
   ]
  },
  {
   "cell_type": "code",
   "execution_count": null,
   "metadata": {
    "pycharm": {},
    "scrolled": true
   },
   "outputs": [],
   "source": [
    "from scvi.dataset.csv import CsvDataset\n",
    "stimulated = CsvDataset(filename='immune_stimulated_expression_matrix.txt',\n",
    "                        save_path=save_path,sep='\\t', new_n_genes=35635)\n",
    "control = CsvDataset(filename='immune_control_expression_matrix.txt',\n",
    "                     save_path=save_path, sep='\\t', new_n_genes=35635)"
   ]
  },
  {
   "cell_type": "markdown",
   "metadata": {
    "pycharm": {}
   },
   "source": [
    "# Concatenate Datasets"
   ]
  },
  {
   "cell_type": "code",
   "execution_count": null,
   "metadata": {
    "pycharm": {}
   },
   "outputs": [],
   "source": [
    "all_dataset = GeneExpressionDataset()\n",
    "all_dataset.populate_from_datasets([control, stimulated])"
   ]
  },
  {
   "cell_type": "markdown",
   "metadata": {
    "pycharm": {}
   },
   "source": [
    "# scVI (single-cell Variational Inference)\n",
    "\n",
    "<font size='3'>___scVI___ is a hierarchical Bayesian model for single-cell RNA sequencing data with conditional distributions parametrized by neural networks. Working as a hybrid between a neural network and a bayesian network, scVI performs data harmonization. VAE refers to variational auto-encoders for single-cell gene expression data. scVI is similar to VAE as it tries to bring a more suitable structure to the latent space. While VAE allows users to make observations in a semi-supervised fashion, scVI is easier to train and specific cell-type labels for the dataset are not required in the pure unsupervised case.\n",
    "</font>\n",
    "\n",
    "\n",
    "\n",
    "## Define the scVI model\n",
    "* First, we define the model and its hyperparameters: \n",
    "    * __n_hidden__: number of units in the hidden layer = 128\n",
    "    * __n_latent__: number of dimensions in the shared latent space = 10 (how many dimensions in z)\n",
    "    * __n_layers__: number of layers in the neural network\n",
    "    * __dispersion__: 'gene': each gene has its own dispersion parameter; 'gene-batch': each gene in each batch has its own dispersion parameter\n",
    "* Then, we define a trainer using the model and the dataset to train it with\n",
    "    * in the unsupervised setting, __train_size__=1.0 and all cells are used for training\n"
   ]
  },
  {
   "cell_type": "code",
   "execution_count": null,
   "metadata": {
    "pycharm": {}
   },
   "outputs": [],
   "source": [
    "vae = VAE(all_dataset.nb_genes, n_batch=all_dataset.n_batches, n_labels=all_dataset.n_labels,\n",
    "          n_hidden=128, n_latent=30, n_layers=2, dispersion='gene')\n",
    "\n",
    "trainer = UnsupervisedTrainer(vae, all_dataset, train_size=1.0)\n",
    "n_epochs = 100 if n_epochs_all is None else n_epochs_all\n",
    "trainer.train(n_epochs=n_epochs)"
   ]
  },
  {
   "cell_type": "markdown",
   "metadata": {
    "pycharm": {}
   },
   "source": [
    "## Train the vae model for 100 epochs (this should take apporximately 12 minutes on a GPU)\n",
    "\n",
    "#### If it is desired to save to model and take on the downstream analysis later, save the model, and comment out trainer.train()\n",
    "#### Use the saved model to ensure that the down stream analysis cluster id are identical, but the result is robust to reruns of the model, although the exact numerical ids of the clusters might change"
   ]
  },
  {
   "cell_type": "code",
   "execution_count": null,
   "metadata": {
    "pycharm": {}
   },
   "outputs": [],
   "source": [
    "# trainer.train(n_epochs=100)\n",
    "# torch.save(trainer.model.state_dict(),save_path+'harmonization.vae.allgenes.30.model.pkl')"
   ]
  },
  {
   "cell_type": "markdown",
   "metadata": {
    "pycharm": {}
   },
   "source": [
    "#### And load the trained weights using load_state_dict "
   ]
  },
  {
   "cell_type": "code",
   "execution_count": null,
   "metadata": {
    "pycharm": {}
   },
   "outputs": [],
   "source": [
    "# trainer.model.load_state_dict(torch.load(save_path+'harmonization.vae.allgenes.30.model.pkl'))\n",
    "# trainer.model.eval()"
   ]
  },
  {
   "cell_type": "markdown",
   "metadata": {
    "pycharm": {}
   },
   "source": [
    "# Visualize the latent space\n",
    "\n",
    "<font size='3'> The latent space representation of the cells provides a way to address the harmonization problem, as all the cells are projected onto a joint latent space, inferred while controlling for their dataset of origin. </font>\n",
    "\n",
    "### Obtain the latent space from the posterior object\n",
    "<font size='3'> First, the posterior object is obtained by providing the model that was trained on the dataset. Then, the latent space along with the labels is obtained. </font>"
   ]
  },
  {
   "cell_type": "code",
   "execution_count": null,
   "metadata": {
    "pycharm": {}
   },
   "outputs": [],
   "source": [
    "full = trainer.create_posterior(trainer.model, all_dataset, indices=np.arange(len(all_dataset)))\n",
    "latent, batch_indices, labels = full.sequential().get_latent()\n",
    "batch_indices = batch_indices.ravel()"
   ]
  },
  {
   "cell_type": "markdown",
   "metadata": {
    "pycharm": {}
   },
   "source": [
    "### Use UMAP to generate 2D visualization"
   ]
  },
  {
   "cell_type": "code",
   "execution_count": null,
   "metadata": {
    "pycharm": {}
   },
   "outputs": [],
   "source": [
    "latent_u = UMAP(spread=2).fit_transform(latent)"
   ]
  },
  {
   "cell_type": "markdown",
   "metadata": {
    "pycharm": {}
   },
   "source": [
    "### Plot data colored by batch"
   ]
  },
  {
   "cell_type": "code",
   "execution_count": null,
   "metadata": {
    "pycharm": {}
   },
   "outputs": [],
   "source": [
    "cm = LinearSegmentedColormap.from_list(\n",
    "        'my_cm', ['deepskyblue', 'hotpink'], N=2)\n",
    "fig, ax = plt.subplots(figsize=(5, 5))\n",
    "order = np.arange(latent.shape[0])\n",
    "random.shuffle(order)\n",
    "ax.scatter(latent_u[order, 0], latent_u[order, 1], \n",
    "           c=all_dataset.batch_indices.ravel()[order], \n",
    "           cmap=cm, edgecolors='none', s=5)    \n",
    "plt.axis(\"off\")\n",
    "fig.set_tight_layout(True)\n"
   ]
  },
  {
   "cell_type": "code",
   "execution_count": null,
   "metadata": {
    "pycharm": {}
   },
   "outputs": [],
   "source": [
    "adata_latent = sc.AnnData(latent)\n",
    "sc.pp.neighbors(adata_latent, use_rep='X', n_neighbors=30, metric='minkowski')\n",
    "sc.tl.louvain(adata_latent, partition_type=louvain.ModularityVertexPartition, use_weights=False)\n",
    "clusters = adata_latent.obs.louvain.values.to_dense().astype(int)"
   ]
  },
  {
   "cell_type": "markdown",
   "metadata": {
    "pycharm": {}
   },
   "source": [
    "### plot clusters in 2D UMAP\n"
   ]
  },
  {
   "cell_type": "code",
   "execution_count": null,
   "metadata": {
    "pycharm": {}
   },
   "outputs": [],
   "source": [
    "colors = [\"#991f1f\", \"#ff9999\", \"#ff4400\", \"#ff8800\", \"#664014\", \"#665c52\",\n",
    "          \"#cca300\", \"#f1ff33\", \"#b4cca3\", \"#0e6600\", \"#33ff4e\", \"#00ccbe\",\n",
    "          \"#0088ff\", \"#7aa6cc\", \"#293966\", \"#0000ff\", \"#9352cc\", \"#cca3c9\", \"#cc2996\"]\n",
    "\n",
    "fig = plt.figure(figsize=(7, 7), facecolor='w', edgecolor='k')\n",
    "for i, k in enumerate(np.unique(clusters)):\n",
    "    plt.scatter(latent_u[clusters == k, 0], latent_u[clusters == k, 1], label=k,\n",
    "                edgecolors='none', c=colors[k], s=5)\n",
    "    plt.legend(borderaxespad=0, fontsize='large', markerscale=5)\n",
    "\n",
    "plt.axis('off')\n",
    "fig.set_tight_layout(True)\n"
   ]
  },
  {
   "cell_type": "markdown",
   "metadata": {
    "pycharm": {}
   },
   "source": [
    "###### Generate list of genes that is enriched for higher expression in cluster i compared to all other clusters\n",
    "Here we compare the gene expression in cells from one cluster to all the other cells by \n",
    "* sampling mean parameter from the scVI ZINB model\n",
    "* compare pairs of cells from one subset v.s. the other \n",
    "* compute bayes factor based on the number of times the cell from the cluster of interest has a higher expression\n",
    "* generate DE genelist ranked by the bayes factor"
   ]
  },
  {
   "cell_type": "code",
   "execution_count": null,
   "metadata": {
    "pycharm": {}
   },
   "outputs": [],
   "source": [
    "# change to output_file=True to get an Excel file with all DE information\n",
    "de_res, de_clust = full.one_vs_all_degenes(cell_labels=clusters, n_samples=10000, \n",
    "                                           M_permutation=10000, output_file=False,\n",
    "                                           save_dir=save_path, filename='Harmonized_ClusterDE',\n",
    "                                           min_cells=1)\n",
    "\n",
    "# with open(save_path+'Harmonized_ClusterDE.pkl', 'wb') as f:\n",
    "#     pickle.dump((de_res, de_clust), f)\n",
    "\n",
    "# with open(save_path+'Harmonized_ClusterDE.pkl', 'rb') as f:\n",
    "#     de_res, de_clust = pickle.load(f)\n"
   ]
  },
  {
   "cell_type": "markdown",
   "metadata": {
    "pycharm": {}
   },
   "source": [
    "# Find markers for each cluster\n",
    "**absthres** is the minimum average number of UMI in the cluster of interest to be a marker gene\n",
    "\n",
    "**relthres** is the minimum fold change in number of UMI in the cluster of interest compared to all other cells for a differentially expressed gene to be a marker gene\n"
   ]
  },
  {
   "cell_type": "code",
   "execution_count": null,
   "metadata": {
    "pycharm": {}
   },
   "outputs": [],
   "source": [
    "def find_markers(deres, absthres, relthres, ngenes):\n",
    "    allgenes = []\n",
    "    for i, x in enumerate(deres):\n",
    "        markers = x.loc[(x['mean1'] > absthres) & (x['norm_mean1'] / x['norm_mean2'] > relthres)]\n",
    "        if len(markers>0):\n",
    "            ngenes = np.min([len(markers), ngenes])\n",
    "            markers = markers[:ngenes]\n",
    "            allgenes.append(markers)\n",
    "    if len(allgenes)>0:\n",
    "        markers = pd.concat(allgenes)\n",
    "        return markers\n",
    "    else: \n",
    "        return pd.DataFrame(columns=['bayes1','mean1','mean2','scale1','scale2','clusters'])"
   ]
  },
  {
   "cell_type": "code",
   "execution_count": null,
   "metadata": {
    "pycharm": {}
   },
   "outputs": [],
   "source": [
    "clustermarkers = find_markers(de_res, absthres=0.5, relthres=2, ngenes=3)"
   ]
  },
  {
   "cell_type": "code",
   "execution_count": null,
   "metadata": {
    "pycharm": {}
   },
   "outputs": [],
   "source": [
    "clustermarkers[['bayes1', 'mean1', 'mean2', 'scale1', 'scale2', 'clusters']]"
   ]
  },
  {
   "cell_type": "markdown",
   "metadata": {
    "pycharm": {}
   },
   "source": [
    "# Plotting known cluster unique genes"
   ]
  },
  {
   "cell_type": "code",
   "execution_count": null,
   "metadata": {
    "pycharm": {}
   },
   "outputs": [],
   "source": [
    "Markers = [\"CD3D\", \"SELL\", \"CREM\", \"CD8B\", \"GNLY\", \"CD79A\", \"FCGR3A\", \"CCL2\", \"PPBP\"]"
   ]
  },
  {
   "cell_type": "code",
   "execution_count": null,
   "metadata": {
    "pycharm": {}
   },
   "outputs": [],
   "source": [
    "def plot_marker_genes(latent_u, count, genenames, markers):\n",
    "    nrow = (len(markers) // 3 + 1)\n",
    "    figh = nrow * 4\n",
    "    fig = plt.figure(figsize=(10, figh))\n",
    "    for i, x in enumerate(markers):\n",
    "        if np.sum(genenames == x)==1:\n",
    "            exprs = count[:, genenames == x].ravel()\n",
    "            idx = (exprs > 0)\n",
    "            plt.subplot(nrow, 3, (i + 1))\n",
    "            plt.scatter(latent_u[:, 0], latent_u[:, 1], c='lightgrey', edgecolors='none', s=5)\n",
    "            plt.scatter(latent_u[idx, 0], latent_u[idx, 1], c=exprs[idx], cmap=plt.get_cmap('viridis_r'),\n",
    "                        edgecolors='none', s=3)\n",
    "            plt.title(x)\n",
    "            fig.set_tight_layout(True)"
   ]
  },
  {
   "cell_type": "code",
   "execution_count": null,
   "metadata": {
    "pycharm": {}
   },
   "outputs": [],
   "source": [
    "if len(clustermarkers) > 0:\n",
    "    plot_marker_genes(latent_u[clusters >= 0, :], all_dataset.X[clusters >= 0, :], \n",
    "                  all_dataset.gene_names,\n",
    "                  np.asarray(Markers))"
   ]
  },
  {
   "cell_type": "markdown",
   "metadata": {
    "pycharm": {}
   },
   "source": [
    "### Here we plot the heatmap of average marker gene expression of each cluster"
   ]
  },
  {
   "cell_type": "code",
   "execution_count": null,
   "metadata": {
    "pycharm": {}
   },
   "outputs": [],
   "source": [
    "markergenes = [\"CD3D\", \"CREM\", \"HSPH1\", \"SELL\", \"GIMAP5\", \"CACYBP\", \"GNLY\", \n",
    "    \"NKG7\", \"CCL5\", \"CD8A\", \"MS4A1\", \"CD79A\", \"MIR155HG\", \"NME1\", \"FCGR3A\", \n",
    "    \"VMO1\", \"CCL2\", \"S100A9\", \"HLA-DQA1\", \"GPR183\", \"PPBP\", \"GNG11\", \"HBA2\", \n",
    "    \"HBB\", \"TSPAN13\", \"IL3RA\", \"IGJ\"]"
   ]
  },
  {
   "cell_type": "code",
   "execution_count": null,
   "metadata": {
    "pycharm": {}
   },
   "outputs": [],
   "source": [
    "percluster_exprs = []\n",
    "marker_names = []\n",
    "for marker in markergenes:\n",
    "    if np.sum(all_dataset.gene_names == marker) == 1:\n",
    "        mean = [np.mean(all_dataset.X[clusters == i, all_dataset.gene_names == marker]) for i in np.unique(clusters)]\n",
    "        mean = np.asarray(mean)\n",
    "        percluster_exprs.append(np.log10(mean / np.mean(mean) + 1))\n",
    "        marker_names.append(marker)\n"
   ]
  },
  {
   "cell_type": "code",
   "execution_count": null,
   "metadata": {
    "pycharm": {}
   },
   "outputs": [],
   "source": [
    "if len(percluster_exprs) > 0:\n",
    "    percluster_exprs = pd.DataFrame(percluster_exprs, index=marker_names)\n",
    "    sns.clustermap(percluster_exprs, row_cluster=False, col_cluster=True)"
   ]
  },
  {
   "cell_type": "markdown",
   "metadata": {
    "pycharm": {}
   },
   "source": [
    "# Plotting scVI discovered marker genes\n",
    "### Each row contains the top 3 marker gene expression of its corresponding cluster"
   ]
  },
  {
   "cell_type": "code",
   "execution_count": null,
   "metadata": {
    "pycharm": {}
   },
   "outputs": [],
   "source": [
    "plot_marker_genes(latent_u[clusters >= 0, :], all_dataset.X[clusters >= 0, :],\n",
    "                  all_dataset.gene_names, np.asarray(clustermarkers.index))\n"
   ]
  },
  {
   "cell_type": "markdown",
   "metadata": {
    "pycharm": {}
   },
   "source": [
    "# Compare list of genes that are differencially expressed in each clusters"
   ]
  },
  {
   "cell_type": "code",
   "execution_count": null,
   "metadata": {
    "pycharm": {}
   },
   "outputs": [],
   "source": [
    "# change to output_file=True to get an Excel file with all DE information\n",
    "de_res_stim, de_clust_stim = full.within_cluster_degenes(cell_labels=clusters,\n",
    "                                                         states=all_dataset.batch_indices.ravel() == 1,\n",
    "                                                         output_file=False, batch1=[1], batch2=[0],\n",
    "                                                         save_dir=save_path, filename='Harmonized_StimDE',\n",
    "                                                         min_cells=1)\n",
    "\n",
    "# with open(save_path+'Harmonized_StimDE.pkl', 'wb') as f:\n",
    "#     pickle.dump((de_res_stim,de_clust_stim), f)\n",
    "\n",
    "# with open(save_path+'Harmonized_StimDE.pkl', 'rb') as f:\n",
    "#     de_res_stim,de_clust_stim = pickle.load(f)\n"
   ]
  },
  {
   "cell_type": "code",
   "execution_count": null,
   "metadata": {
    "pycharm": {}
   },
   "outputs": [],
   "source": [
    "genelist = []\n",
    "for i, x in enumerate(de_clust_stim):\n",
    "    de = de_res_stim[i].loc[de_res_stim[i][\"mean1\"] > 1]\n",
    "    de = de.loc[de[\"bayes1\"] > 2]\n",
    "    if len(de) > 0:\n",
    "        de[\"cluster\"] = np.repeat(x, len(de))\n",
    "        genelist.append(de)\n",
    "\n",
    "        \n",
    "if len(genelist) > 0:\n",
    "    genelist = pd.concat(genelist)\n",
    "    genelist[\"genenames\"] = list(genelist.index)\n",
    "    degenes, nclusterde = np.unique(genelist.index, return_counts=True)"
   ]
  },
  {
   "cell_type": "markdown",
   "metadata": {
    "pycharm": {}
   },
   "source": [
    "### Genes that are differentially expressed in at least 10 of the clsuters"
   ]
  },
  {
   "cell_type": "code",
   "execution_count": null,
   "metadata": {
    "pycharm": {}
   },
   "outputs": [],
   "source": [
    "if len(genelist) > 0:\n",
    "    print(\", \".join(degenes[nclusterde > 11]))"
   ]
  },
  {
   "cell_type": "code",
   "execution_count": null,
   "metadata": {
    "pycharm": {}
   },
   "outputs": [],
   "source": [
    "if len(genelist) > 0:\n",
    "    cluster0shared = genelist.loc[genelist['genenames'].isin(degenes[nclusterde > 10])]\n",
    "    cluster0shared = cluster0shared.loc[cluster0shared['cluster'] == 0]"
   ]
  },
  {
   "cell_type": "code",
   "execution_count": null,
   "metadata": {
    "pycharm": {}
   },
   "outputs": [],
   "source": [
    "def plot_marker_genes_compare(latent_u, count, genenames, markers, subset):\n",
    "    nrow = len(markers)\n",
    "    figh = nrow * 4\n",
    "    fig = plt.figure(figsize=(8, figh))\n",
    "    notsubset = np.asarray([not x for x in subset])\n",
    "    for i, x in enumerate(markers):\n",
    "        if np.sum(genenames == x) == 1:\n",
    "            exprs = count[:, genenames == x].ravel()\n",
    "            idx = (exprs > 0)\n",
    "            plt.subplot(nrow, 2, (i * 2 + 1))\n",
    "            plt.scatter(latent_u[subset, 0], latent_u[subset, 1], c='lightgrey', edgecolors='none', s=5)\n",
    "            plt.scatter(latent_u[idx, 0][subset[idx]], latent_u[idx, 1][subset[idx]], c=exprs[idx][subset[idx]],\n",
    "                        cmap=plt.get_cmap('viridis_r'), edgecolors='none', s=3)\n",
    "            plt.title(x + ' control')\n",
    "            fig.set_tight_layout(True)\n",
    "            plt.subplot(nrow, 2, (i * 2 + 2))\n",
    "            plt.scatter(latent_u[notsubset, 0], latent_u[notsubset, 1], c='lightgrey', edgecolors='none', s=5)\n",
    "            plt.scatter(latent_u[idx, 0][notsubset[idx]], latent_u[idx, 1][notsubset[idx]],\n",
    "                        c=exprs[idx][notsubset[idx]], cmap=plt.get_cmap('viridis_r'), edgecolors='none', s=3)\n",
    "            plt.title(x + ' stimulated')"
   ]
  },
  {
   "cell_type": "code",
   "execution_count": null,
   "metadata": {
    "pycharm": {}
   },
   "outputs": [],
   "source": [
    "plot_marker_genes_compare(latent_u, all_dataset.X, all_dataset.gene_names, \n",
    "                          [\"CD3D\", \"GNLY\", \"IFI6\", \"ISG15\", \"CD14\", \"CXCL10\"], batch_indices == 0)"
   ]
  },
  {
   "cell_type": "code",
   "execution_count": null,
   "metadata": {
    "pycharm": {}
   },
   "outputs": [],
   "source": [
    "if len(genelist) > 0:\n",
    "    plot_marker_genes_compare(latent_u, all_dataset.X, \n",
    "                          all_dataset.gene_names, cluster0shared.index, \n",
    "                          batch_indices == 0)"
   ]
  },
  {
   "cell_type": "markdown",
   "metadata": {
    "pycharm": {}
   },
   "source": [
    "### Genes that are differentially expressed in one single cluster"
   ]
  },
  {
   "cell_type": "code",
   "execution_count": null,
   "metadata": {
    "pycharm": {}
   },
   "outputs": [],
   "source": [
    "if len(genelist) > 0 and len(nclusterde) > 0:\n",
    "    degenes[nclusterde == 1]\n",
    "    clusteruniq = genelist.loc[genelist['genenames'].isin(degenes[nclusterde == 1])]\n",
    "    clusteruniq = clusteruniq.loc[clusteruniq['cluster'] == 3]\n",
    "    plot_marker_genes_compare(latent_u, all_dataset.X, all_dataset.gene_names, clusteruniq.index, batch_indices == 0)"
   ]
  },
  {
   "cell_type": "code",
   "execution_count": null,
   "metadata": {
    "pycharm": {}
   },
   "outputs": [],
   "source": [
    "def allow_notebook_for_test():\n",
    "    print(\"Testing the annotation notebook\")"
   ]
  }
 ],
 "metadata": {
  "kernelspec": {
   "display_name": "Python 3",
   "language": "python",
   "name": "python3"
  },
  "language_info": {
   "codemirror_mode": {
    "name": "ipython",
    "version": 3
   },
   "file_extension": ".py",
   "mimetype": "text/x-python",
   "name": "python",
   "nbconvert_exporter": "python",
   "pygments_lexer": "ipython3",
   "version": "3.6.0"
  }
 },
 "nbformat": 4,
 "nbformat_minor": 2
}
